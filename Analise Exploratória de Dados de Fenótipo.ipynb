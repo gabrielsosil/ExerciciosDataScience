{
 "cells": [
  {
   "cell_type": "markdown",
   "id": "75592616",
   "metadata": {},
   "source": [
    "A análise a seguir foi feita como exercício para o curso de Introdução à Ciência de Dados da FGV no módulo de Análise Exploratória de dados. \n",
    "\n",
    "O exercício foi feito com 3 objetivos:\n",
    "1. Determinar dados de média, mediana, primeiro quartil, terceiro quartil e desvio padrão das variáveis numéricas.\n",
    "2. Criar de uma tabela de contingência com os dados de Cor de Cabelo e Cor do olho.\n",
    "3. Calcular o scatter plot das colunas Peso e Altura, analisando a possibilidade da existencia de dados inconsistentes.\n"
   ]
  },
  {
   "cell_type": "code",
   "execution_count": 26,
   "id": "49fb4977",
   "metadata": {},
   "outputs": [],
   "source": [
    "import pandas as pd\n",
    "import numpy as np\n",
    "import matplotlib.pyplot as plt"
   ]
  },
  {
   "cell_type": "code",
   "execution_count": 15,
   "id": "e8d2c427",
   "metadata": {},
   "outputs": [],
   "source": [
    "## leitura do arquivo csv e armazenamento no dataframe\n",
    "\n",
    "fenotipo_df = pd.read_csv('dados_fenotipo.csv')"
   ]
  },
  {
   "cell_type": "code",
   "execution_count": 16,
   "id": "09763ea0",
   "metadata": {},
   "outputs": [
    {
     "name": "stdout",
     "output_type": "stream",
     "text": [
      "<class 'pandas.core.frame.DataFrame'>\n",
      "RangeIndex: 50 entries, 0 to 49\n",
      "Data columns (total 4 columns):\n",
      " #   Column      Non-Null Count  Dtype  \n",
      "---  ------      --------------  -----  \n",
      " 0   Peso        50 non-null     float64\n",
      " 1   Altura      50 non-null     float64\n",
      " 2   Cor Olho    50 non-null     object \n",
      " 3   Cor Cabelo  50 non-null     object \n",
      "dtypes: float64(2), object(2)\n",
      "memory usage: 1.7+ KB\n"
     ]
    }
   ],
   "source": [
    "## informações básicas sobre o dataframe criado.\n",
    "fenotipo_df.info()"
   ]
  },
  {
   "cell_type": "code",
   "execution_count": 29,
   "id": "bf2bf1b3",
   "metadata": {},
   "outputs": [
    {
     "data": {
      "text/plain": [
       "0"
      ]
     },
     "execution_count": 29,
     "metadata": {},
     "output_type": "execute_result"
    }
   ],
   "source": [
    "## busca por valores duplicados\n",
    "fenotipo_df.duplicated().sum()"
   ]
  },
  {
   "cell_type": "code",
   "execution_count": 30,
   "id": "d169dbab",
   "metadata": {},
   "outputs": [
    {
     "data": {
      "text/plain": [
       "Peso          0\n",
       "Altura        0\n",
       "Cor Olho      0\n",
       "Cor Cabelo    0\n",
       "dtype: int64"
      ]
     },
     "execution_count": 30,
     "metadata": {},
     "output_type": "execute_result"
    }
   ],
   "source": [
    "## busca por valores nulos no meio do dataframe\n",
    "fenotipo_df.isnull().sum()"
   ]
  },
  {
   "cell_type": "code",
   "execution_count": 13,
   "id": "a4454718",
   "metadata": {},
   "outputs": [
    {
     "data": {
      "text/html": [
       "<div>\n",
       "<style scoped>\n",
       "    .dataframe tbody tr th:only-of-type {\n",
       "        vertical-align: middle;\n",
       "    }\n",
       "\n",
       "    .dataframe tbody tr th {\n",
       "        vertical-align: top;\n",
       "    }\n",
       "\n",
       "    .dataframe thead th {\n",
       "        text-align: right;\n",
       "    }\n",
       "</style>\n",
       "<table border=\"1\" class=\"dataframe\">\n",
       "  <thead>\n",
       "    <tr style=\"text-align: right;\">\n",
       "      <th></th>\n",
       "      <th>Peso</th>\n",
       "      <th>Altura</th>\n",
       "    </tr>\n",
       "  </thead>\n",
       "  <tbody>\n",
       "    <tr>\n",
       "      <th>count</th>\n",
       "      <td>50.000000</td>\n",
       "      <td>50.000000</td>\n",
       "    </tr>\n",
       "    <tr>\n",
       "      <th>mean</th>\n",
       "      <td>83.736720</td>\n",
       "      <td>1.653600</td>\n",
       "    </tr>\n",
       "    <tr>\n",
       "      <th>std</th>\n",
       "      <td>31.900531</td>\n",
       "      <td>0.271036</td>\n",
       "    </tr>\n",
       "    <tr>\n",
       "      <th>min</th>\n",
       "      <td>6.546000</td>\n",
       "      <td>1.010000</td>\n",
       "    </tr>\n",
       "    <tr>\n",
       "      <th>25%</th>\n",
       "      <td>62.547500</td>\n",
       "      <td>1.562500</td>\n",
       "    </tr>\n",
       "    <tr>\n",
       "      <th>50%</th>\n",
       "      <td>81.790000</td>\n",
       "      <td>1.700000</td>\n",
       "    </tr>\n",
       "    <tr>\n",
       "      <th>75%</th>\n",
       "      <td>103.567500</td>\n",
       "      <td>1.797500</td>\n",
       "    </tr>\n",
       "    <tr>\n",
       "      <th>max</th>\n",
       "      <td>163.910000</td>\n",
       "      <td>2.180000</td>\n",
       "    </tr>\n",
       "  </tbody>\n",
       "</table>\n",
       "</div>"
      ],
      "text/plain": [
       "             Peso     Altura\n",
       "count   50.000000  50.000000\n",
       "mean    83.736720   1.653600\n",
       "std     31.900531   0.271036\n",
       "min      6.546000   1.010000\n",
       "25%     62.547500   1.562500\n",
       "50%     81.790000   1.700000\n",
       "75%    103.567500   1.797500\n",
       "max    163.910000   2.180000"
      ]
     },
     "execution_count": 13,
     "metadata": {},
     "output_type": "execute_result"
    }
   ],
   "source": [
    "# uso da função describe para cálculo de dados estatísticos\n",
    "fenotipo_df.describe()"
   ]
  },
  {
   "cell_type": "code",
   "execution_count": 17,
   "id": "d5c7b9de",
   "metadata": {},
   "outputs": [
    {
     "data": {
      "text/plain": [
       "1.7"
      ]
     },
     "execution_count": 17,
     "metadata": {},
     "output_type": "execute_result"
    }
   ],
   "source": [
    "#uso da função median pois não foi contemplada no describe\n",
    "fenotipo_df['Altura'].median()"
   ]
  },
  {
   "cell_type": "code",
   "execution_count": 18,
   "id": "0343b7b2",
   "metadata": {},
   "outputs": [
    {
     "data": {
      "text/plain": [
       "81.78999999999999"
      ]
     },
     "execution_count": 18,
     "metadata": {},
     "output_type": "execute_result"
    }
   ],
   "source": [
    "fenotipo_df['Peso'].median()"
   ]
  },
  {
   "cell_type": "code",
   "execution_count": 21,
   "id": "d564bae5",
   "metadata": {},
   "outputs": [
    {
     "data": {
      "text/html": [
       "<div>\n",
       "<style scoped>\n",
       "    .dataframe tbody tr th:only-of-type {\n",
       "        vertical-align: middle;\n",
       "    }\n",
       "\n",
       "    .dataframe tbody tr th {\n",
       "        vertical-align: top;\n",
       "    }\n",
       "\n",
       "    .dataframe thead th {\n",
       "        text-align: right;\n",
       "    }\n",
       "</style>\n",
       "<table border=\"1\" class=\"dataframe\">\n",
       "  <thead>\n",
       "    <tr style=\"text-align: right;\">\n",
       "      <th>Cor Olho</th>\n",
       "      <th>azul</th>\n",
       "      <th>castanho</th>\n",
       "      <th>verde</th>\n",
       "      <th>All</th>\n",
       "    </tr>\n",
       "    <tr>\n",
       "      <th>Cor Cabelo</th>\n",
       "      <th></th>\n",
       "      <th></th>\n",
       "      <th></th>\n",
       "      <th></th>\n",
       "    </tr>\n",
       "  </thead>\n",
       "  <tbody>\n",
       "    <tr>\n",
       "      <th>castanho</th>\n",
       "      <td>5</td>\n",
       "      <td>6</td>\n",
       "      <td>1</td>\n",
       "      <td>12</td>\n",
       "    </tr>\n",
       "    <tr>\n",
       "      <th>loiro</th>\n",
       "      <td>7</td>\n",
       "      <td>4</td>\n",
       "      <td>7</td>\n",
       "      <td>18</td>\n",
       "    </tr>\n",
       "    <tr>\n",
       "      <th>preto</th>\n",
       "      <td>8</td>\n",
       "      <td>9</td>\n",
       "      <td>3</td>\n",
       "      <td>20</td>\n",
       "    </tr>\n",
       "    <tr>\n",
       "      <th>All</th>\n",
       "      <td>20</td>\n",
       "      <td>19</td>\n",
       "      <td>11</td>\n",
       "      <td>50</td>\n",
       "    </tr>\n",
       "  </tbody>\n",
       "</table>\n",
       "</div>"
      ],
      "text/plain": [
       "Cor Olho    azul  castanho  verde  All\n",
       "Cor Cabelo                            \n",
       "castanho       5         6      1   12\n",
       "loiro          7         4      7   18\n",
       "preto          8         9      3   20\n",
       "All           20        19     11   50"
      ]
     },
     "execution_count": 21,
     "metadata": {},
     "output_type": "execute_result"
    }
   ],
   "source": [
    "# criação da tabela de contingência para as variáveis de cor do cabelo e cor do olho\n",
    "pd.crosstab(fenotipo_df['Cor Cabelo'], fenotipo_df['Cor Olho'], margins = True)"
   ]
  },
  {
   "cell_type": "code",
   "execution_count": 28,
   "id": "5824dc7d",
   "metadata": {},
   "outputs": [
    {
     "data": {
      "image/png": "[encoded data removed]",
      "text/plain": [
       "<Figure size 640x480 with 1 Axes>"
      ]
     },
     "metadata": {},
     "output_type": "display_data"
    }
   ],
   "source": [
    "# calculo do scatterplot\n",
    "plt.scatter(fenotipo_df['Altura'],fenotipo_df['Peso'])\n",
    "plt.show()"
   ]
  },
  {
   "cell_type": "markdown",
   "id": "4fc0cc3d",
   "metadata": {},
   "source": [
    "Se considerarmos que as variáveis de peso e altura tem correlação, ou seja, quanto mais pesado, mais alto, pode-se concluir que existem dados inconsistentes pois os dados não parecem se alinhar, indicando a existência ambos de indivíduos extremamente baixos e pesados ao mesmo tempo que extremamente altos e leves. "
   ]
  }
 ],
 "metadata": {
  "kernelspec": {
   "display_name": "Python 3 (ipykernel)",
   "language": "python",
   "name": "python3"
  },
  "language_info": {
   "codemirror_mode": {
    "name": "ipython",
    "version": 3
   },
   "file_extension": ".py",
   "mimetype": "text/x-python",
   "name": "python",
   "nbconvert_exporter": "python",
   "pygments_lexer": "ipython3",
   "version": "3.10.9"
  }
 },
 "nbformat": 4,
 "nbformat_minor": 5
}
